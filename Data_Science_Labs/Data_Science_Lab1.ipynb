{
  "nbformat": 4,
  "nbformat_minor": 0,
  "metadata": {
    "colab": {
      "provenance": [],
      "collapsed_sections": []
    },
    "kernelspec": {
      "name": "python3",
      "display_name": "Python 3"
    },
    "language_info": {
      "name": "python"
    }
  },
  "cells": [
    {
      "cell_type": "code",
      "execution_count": 1,
      "metadata": {
        "id": "wHU7I3fEYag2"
      },
      "outputs": [],
      "source": [
        "import requests\n",
        "import csv\n",
        "import pandas as pd\n",
        "\n",
        "dta = requests.get(\"https://archive.ics.uci.edu/ml/machine-learning-databases/iris/iris.data\").text\n",
        "headers = ['sepal length (cm)', 'sepal width (cm)', 'petal length (cm)', 'petal width (cm)', 'class']\n",
        "\n",
        "file_object = open('dta.txt', 'a')\n",
        "file_object.write(dta)\n",
        "file_object.close()\n",
        "\n",
        "def write_csv(dta, headers):\n",
        "  irisData = pd.read_csv(\"dta.txt\", header=None)\n",
        "  irisData.columns = headers\n",
        "  irisData.to_csv(\"irisData.csv\", index = None)\n",
        "\n",
        "write_csv(dta,headers)"
      ]
    },
    {
      "cell_type": "code",
      "source": [
        "!wget https://raw.githubusercontent.com/porterjenkins/cs180-intro-data-science/master/data/plane.obj"
      ],
      "metadata": {
        "colab": {
          "base_uri": "https://localhost:8080/"
        },
        "id": "EklZz44Mbk8O",
        "outputId": "fb83c568-ebbf-4753-ae83-f89c6914a55a"
      },
      "execution_count": 2,
      "outputs": [
        {
          "output_type": "stream",
          "name": "stdout",
          "text": [
            "--2022-09-07 21:23:15--  https://raw.githubusercontent.com/porterjenkins/cs180-intro-data-science/master/data/plane.obj\n",
            "Resolving raw.githubusercontent.com (raw.githubusercontent.com)... 185.199.108.133, 185.199.109.133, 185.199.110.133, ...\n",
            "Connecting to raw.githubusercontent.com (raw.githubusercontent.com)|185.199.108.133|:443... connected.\n",
            "HTTP request sent, awaiting response... 200 OK\n",
            "Length: 2819182 (2.7M) [text/plain]\n",
            "Saving to: ‘plane.obj’\n",
            "\n",
            "\rplane.obj             0%[                    ]       0  --.-KB/s               \rplane.obj           100%[===================>]   2.69M  --.-KB/s    in 0.02s   \n",
            "\n",
            "2022-09-07 21:23:15 (113 MB/s) - ‘plane.obj’ saved [2819182/2819182]\n",
            "\n"
          ]
        }
      ]
    },
    {
      "cell_type": "code",
      "source": [
        "import json\n",
        "objFile = open('plane.obj', 'r')\n",
        "\n",
        "Dict = {}\n",
        "vertexList = []\n",
        "faceList = []\n",
        "\n",
        "Dict[\"vertices\"] = vertexList\n",
        "Dict[\"faces\"] = faceList\n",
        "\n",
        "for line in objFile:\n",
        "  split =  line.split()\n",
        "  if not len(split):\n",
        "    continue\n",
        "  if split[0] == \"v\":\n",
        "    vertexList.append(split[1:])\n",
        "  elif split[0] == \"f\":\n",
        "    faceList.append(split[1:])\n",
        "\n",
        "y = json.dumps(Dict)\n",
        "  \n",
        "with open(\"planeDict.txt\", 'w') as f:\n",
        "  f.write(y)"
      ],
      "metadata": {
        "id": "j5ldmuUlrsdc"
      },
      "execution_count": 3,
      "outputs": []
    },
    {
      "cell_type": "code",
      "source": [
        "import matplotlib.pyplot as plt\n",
        "import numpy as np\n",
        "from mpl_toolkits.mplot3d import Axes3D\n",
        "\n",
        "def plot_point_cloud(verts):\n",
        "    verts = np.array(verts)\n",
        "    fig = plt.figure(figsize=(5, 5))\n",
        "    ax = Axes3D(fig, azim=-90, elev=0)\n",
        "    ax.scatter3D(\n",
        "        verts[:, 0],\n",
        "        verts[:, 2],\n",
        "        verts[:, 1]\n",
        "    )\n",
        "    ax.set_xlabel('x')\n",
        "    ax.set_ylabel('z')\n",
        "    ax.set_zlabel('y')\n",
        "    \n",
        "    plt.show()"
      ],
      "metadata": {
        "id": "d5WvmBA4rRzV"
      },
      "execution_count": 8,
      "outputs": []
    },
    {
      "cell_type": "code",
      "source": [
        "from numpy.ma.core import remainder\n",
        "class Car:\n",
        "  def __init__(self, Color, Model, Year, maxSpeed, Mileage, currentSpeed):\n",
        "    self.Color= Color\n",
        "    self.Model= Model\n",
        "    self.Year= Year\n",
        "    self.maxSpeed= maxSpeed\n",
        "    self.Mileage= Mileage\n",
        "    self.currentSpeed= currentSpeed\n",
        "\n",
        "  def accelerate(self, currentSpeed, maxSpeed) :\n",
        "    for x in range(currentSpeed, maxSpeed, 10):\n",
        "      print(currentSpeed)\n",
        "      currentSpeed += 10\n",
        "    if maxSpeed - currentSpeed < 10:\n",
        "      remainder = maxSpeed - currentSpeed\n",
        "      currentSpeed += remainder\n",
        "      self.brake(currentSpeed, remainder)\n",
        "\n",
        "  def brake(self, currentSpeed, remainder): \n",
        "    for x in range(currentSpeed, 0, -10):\n",
        "      print(currentSpeed)\n",
        "      currentSpeed -= 10\n",
        "    if currentSpeed < 10:\n",
        "      currentSpeed -= remainder\n",
        "      print(currentSpeed)\n",
        "      pass\n",
        "\n",
        "\n",
        "C1 = Car(\"Red\", \"Challenger\", 2012, 203, 22, 0 )\n",
        "C2 = Car(\"Blue\", \"PT Cruiser\", 2007, 111, 26, 0 )\n",
        "print(C1.Color + \" \" + C1.Model)\n",
        "C1.accelerate(C1.currentSpeed, C1.maxSpeed)\n",
        "print(C2.Color + \" \" + C2.Model)\n",
        "C2.accelerate(C2.currentSpeed, C2.maxSpeed)"
      ],
      "metadata": {
        "id": "Sm_qHDY9WTBo",
        "colab": {
          "base_uri": "https://localhost:8080/"
        },
        "outputId": "7d827136-451b-4a85-fbd2-3ee60bb32e48"
      },
      "execution_count": 33,
      "outputs": [
        {
          "output_type": "stream",
          "name": "stdout",
          "text": [
            "Red Challenger\n",
            "0\n",
            "10\n",
            "20\n",
            "30\n",
            "40\n",
            "50\n",
            "60\n",
            "70\n",
            "80\n",
            "90\n",
            "100\n",
            "110\n",
            "120\n",
            "130\n",
            "140\n",
            "150\n",
            "160\n",
            "170\n",
            "180\n",
            "190\n",
            "200\n",
            "203\n",
            "193\n",
            "183\n",
            "173\n",
            "163\n",
            "153\n",
            "143\n",
            "133\n",
            "123\n",
            "113\n",
            "103\n",
            "93\n",
            "83\n",
            "73\n",
            "63\n",
            "53\n",
            "43\n",
            "33\n",
            "23\n",
            "13\n",
            "3\n",
            "0\n",
            "Blue PT Cruiser\n",
            "0\n",
            "10\n",
            "20\n",
            "30\n",
            "40\n",
            "50\n",
            "60\n",
            "70\n",
            "80\n",
            "90\n",
            "100\n",
            "110\n",
            "111\n",
            "101\n",
            "91\n",
            "81\n",
            "71\n",
            "61\n",
            "51\n",
            "41\n",
            "31\n",
            "21\n",
            "11\n",
            "1\n",
            "0\n"
          ]
        }
      ]
    }
  ]
}