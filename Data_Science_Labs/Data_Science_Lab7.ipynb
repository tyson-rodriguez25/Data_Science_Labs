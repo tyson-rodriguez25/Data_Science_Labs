{
  "cells": [
    {
      "cell_type": "markdown",
      "metadata": {
        "id": "sBBfyELRQEfJ"
      },
      "source": [
        "<a href=\"https://colab.research.google.com/github/Michael-Holland-Dev/CS180/blob/main/data_science_labs/data_science_lab_7.ipynb\" target=\"_parent\"><img src=\"https://colab.research.google.com/assets/colab-badge.svg\" alt=\"Open In Colab\"/></a>"
      ]
    },
    {
      "cell_type": "markdown",
      "metadata": {
        "id": "TeSX7lLboUt0"
      },
      "source": [
        "# BYU CS 180 Lab 7"
      ]
    },
    {
      "cell_type": "markdown",
      "metadata": {
        "id": "BnhWEScNUxrT"
      },
      "source": [
        "## Introduction:\n",
        "This lab is to teach you how to do the basics of probability\n",
        "\n",
        "Exercises 1-5 are essentially math problems. Enter your answer in the (Enter answer here)"
      ]
    },
    {
      "cell_type": "markdown",
      "metadata": {
        "id": "g7m3tLrQofZb"
      },
      "source": [
        "## Exercise 1: Vegas Trip"
      ]
    },
    {
      "cell_type": "markdown",
      "metadata": {
        "id": "6EdMde3VUq4m"
      },
      "source": [
        "For each random process, specify an appropriate sample space:"
      ]
    },
    {
      "cell_type": "markdown",
      "source": [
        "A card is selected from a standard deck of cards"
      ],
      "metadata": {
        "id": "2tkNowmk9jU-"
      }
    },
    {
      "cell_type": "markdown",
      "source": [
        "The sample space for a card being chosen from a standard deck of cards is 52 because there are 52 cards that it can be chosen from (1/52)"
      ],
      "metadata": {
        "id": "w7FAAuzS9l_D"
      }
    },
    {
      "cell_type": "markdown",
      "source": [
        "Three coins are tossed"
      ],
      "metadata": {
        "id": "UFrDMQHM9m7u"
      }
    },
    {
      "cell_type": "markdown",
      "source": [
        "There is a sample space of 8 when three coins are tossed. it could be one of the following outcomes. HHH, HHT, HTH, HTT, THH, THT, TTH, TTT, "
      ],
      "metadata": {
        "id": "2GnbHfgx9t2V"
      }
    },
    {
      "cell_type": "markdown",
      "source": [
        "A girl has a penny, a nickel, a dime, and a quarter in her pocket. She takes two coins out of her pocket, one after the other."
      ],
      "metadata": {
        "id": "MOJ7pAgd91sS"
      }
    },
    {
      "cell_type": "markdown",
      "source": [
        "The sample space would be 12. the out comes could be as follows: PN, PD, PQ, NP, ND, NQ, DP, DN, DQ, QP, QN, QD.  "
      ],
      "metadata": {
        "id": "iLEjn2D997Yt"
      }
    },
    {
      "cell_type": "markdown",
      "metadata": {
        "id": "hgdZ9FW3ohi8"
      },
      "source": [
        "##Exercise 2: Probability Mass Function\n",
        "Consider the experiment of flipping three coins, a quarter, a dime, and a nickel. Both coins are fair and independent. Let X, be a random variable denoting the number of heads of coins.\n"
      ]
    },
    {
      "cell_type": "markdown",
      "source": [
        "What is the sample space of X?"
      ],
      "metadata": {
        "id": "huWMFVgU-nmF"
      }
    },
    {
      "cell_type": "markdown",
      "source": [
        "The Sample Space of everything would be 8 S={HHH, HHT, HTH, HTT, THH, THT, TTH, TTT}\n",
        "\n",
        "But for X being the number of Heads it would bed Rx = {0,1,2,3}"
      ],
      "metadata": {
        "id": "4M_Kv0GX-wZu"
      }
    },
    {
      "cell_type": "markdown",
      "source": [
        "What is the probability mass function of X?"
      ],
      "metadata": {
        "id": "VlSCq1SN-yiw"
      }
    },
    {
      "cell_type": "markdown",
      "source": [
        "The Probability Mass function would be \n",
        "\n",
        "Px(0) = P(X=0) = P(TTT) = 1/8\n",
        "\n",
        "Px(1) = P(X=1) = P(HTT, THT, TTH) = 3/8\n",
        "\n",
        "Px(2) = P(X=2) = P(HHT, HTH, THH) = 3/8\n",
        "\n",
        "Px(3) = P(X=3) = P(HHH) = 1/8"
      ],
      "metadata": {
        "id": "wHyfaJ8K-zbi"
      }
    },
    {
      "cell_type": "markdown",
      "metadata": {
        "id": "siisKlzZois6"
      },
      "source": [
        "##Exercise 3: Dungeons and Dragons\n",
        "Consider an experiment where a green and red die are rolled together.  There are  36 possible events, such that each event has a 1/36 chance of occurring. Compute the “natural” probabilities of the following events:"
      ]
    },
    {
      "cell_type": "markdown",
      "source": [
        "The sum of the numbers on the dice is less than 4"
      ],
      "metadata": {
        "id": "6amsA_6W_JbN"
      }
    },
    {
      "cell_type": "markdown",
      "source": [
        "1 Green 1 Red\n",
        "\n",
        "1 Green 2 Red\n",
        "\n",
        "2 Green 1 Red\n",
        "\n",
        "3/36 probability\n"
      ],
      "metadata": {
        "id": "IqOMBAKw_KX0"
      }
    },
    {
      "cell_type": "markdown",
      "source": [
        "One die gives a 3 and the other die a number less than 3"
      ],
      "metadata": {
        "id": "OKFez36x_OiR"
      }
    },
    {
      "cell_type": "markdown",
      "source": [
        "3 Green 1 Red\n",
        "\n",
        "3 Green 2 Red\n",
        "\n",
        "1 Green 3 Red\n",
        "\n",
        "2 Green 3 Red\n",
        "\n",
        "4/36 = 1/9 Probability"
      ],
      "metadata": {
        "id": "8FowTC3S_PF9"
      }
    },
    {
      "cell_type": "markdown",
      "source": [
        "The sum of the numbers on the dice is 2 or 12"
      ],
      "metadata": {
        "id": "uf5jCCNH_Qu6"
      }
    },
    {
      "cell_type": "markdown",
      "source": [
        "1 Green 1 Red\n",
        "\n",
        "6 Green 6 Red\n",
        "\n",
        "2/36 = 1/18 Probability"
      ],
      "metadata": {
        "id": "43B0jN2q_U3B"
      }
    },
    {
      "cell_type": "markdown",
      "source": [
        "##Exercise 4: Coin Toss\n",
        "Let X again denote the number of tossing three independent coins (see Exercise 2):"
      ],
      "metadata": {
        "id": "hIGACJBb_uOF"
      }
    },
    {
      "cell_type": "markdown",
      "source": [
        "What is the expected value, E[x], of the random variable?\n",
        "\n",
        "Px(0) = P(X=0) = P(TTT) = 1/8\n",
        "\n",
        "Px(1) = P(X=1) = P(HTT, THT, TTH) = 3/8\n",
        "\n",
        "Px(2) = P(X=2) = P(HHT, HTH, THH) = 3/8\n",
        "\n",
        "Px(3) = P(X=3) = P(HHH) = 1/8\n",
        "\n",
        "E(x) = 0 x 1/8 + 1 x 3/8 + 2 x 3/8 + 3 x 1/8 = 1 1/2 = 1.5"
      ],
      "metadata": {
        "id": "XubTT8Cs_x85"
      }
    },
    {
      "cell_type": "markdown",
      "source": [
        "Let f(x) = X - E[x]. What is the expected value, E[f(x)]?\n",
        "\n",
        "(0 - 1.5)1/8 + (1-1.5)3/8 + (2-1.5)3/8 + (3 -1.5)1/8 =  0"
      ],
      "metadata": {
        "id": "wIp1cqqq_zta"
      }
    },
    {
      "cell_type": "markdown",
      "source": [
        "Let g(x) = (X - E[x])^2), or the variance of X. What is E[g(x)]?\n",
        "\n",
        "(0 - 1.5)^2 1/8 + (1-1.5)^2 * 3/8 + (2-1.5)^2 3/8 + (3 -1.5)^2 * 1/8 = .75"
      ],
      "metadata": {
        "id": "OUpbWQk-_6Ej"
      }
    },
    {
      "cell_type": "markdown",
      "source": [
        "## Exercise 5: Powerball\n",
        "A thousand tickets are sold in a lottery in which there is one top prize of \\$500, four prizes of \\$100 each, and five prizes of \\$10 each. A ticket costs \\$1. "
      ],
      "metadata": {
        "id": "Kiq_U14sAFUM"
      }
    },
    {
      "cell_type": "markdown",
      "source": [
        "If X is your net gain when you buy one ticket, what is the expected value of X?\n",
        "\n",
        "-1 x 990/1000 + 9 x 5/1000 + 99 x 4/1000 + 499 x 1/1000 = -.05 ??"
      ],
      "metadata": {
        "id": "DBvW1X82AIXi"
      }
    },
    {
      "cell_type": "markdown",
      "source": [
        "Should you make this bet and participate in the lottery? Why?\n",
        "\n",
        "I should not play the lottery because I for every ticket I buy I expect to lose 5 cents. ??"
      ],
      "metadata": {
        "id": "dCDGZQHcAKbE"
      }
    },
    {
      "cell_type": "markdown",
      "source": [
        "## Exercise 6: Monte Carlo"
      ],
      "metadata": {
        "id": "1ArmN4Z_A--_"
      }
    },
    {
      "cell_type": "markdown",
      "source": [
        "Given a gamma distributed random variable, X. "
      ],
      "metadata": {
        "id": "XMXvg2_pBldV"
      }
    },
    {
      "cell_type": "markdown",
      "source": [
        "![image-20211012-205235.png](data:image/png;base64,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)"
      ],
      "metadata": {
        "id": "M1J4EplRDjSS"
      }
    },
    {
      "cell_type": "markdown",
      "source": [
        "For this exercise, assume the shape = 5.0 and the scale = 1.0\n",
        "\n",
        "Approximate the expected value, E[f(x)], using a Monte Carlo algorithm where f(x) is defined as "
      ],
      "metadata": {
        "id": "2c8sbfa1DpgB"
      }
    },
    {
      "cell_type": "markdown",
      "source": [
        "![image-20211012-205216.png](data:image/png;base64,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)"
      ],
      "metadata": {
        "id": "GutIbDG5DwBB"
      }
    },
    {
      "cell_type": "markdown",
      "source": [
        "What is the expected value, E[f(x)]?"
      ],
      "metadata": {
        "id": "PuD9ICp8D2iQ"
      }
    },
    {
      "cell_type": "code",
      "source": [
        "import math\n",
        "import numpy as np\n",
        "import scipy\n",
        "import random\n",
        "import seaborn as sns\n",
        "\n",
        "def f(x):\n",
        "  return np.sin(np.exp(x)) + np.log(x)\n",
        "\n",
        "x = np.random.gamma(5, 1.0, 10000)\n",
        "function = f(x)\n",
        "value = function\n",
        "mean = value.mean()\n",
        "print(mean)\n",
        "\n",
        "\n",
        "\n",
        "\n"
      ],
      "metadata": {
        "id": "TyBTh8ScDzR5",
        "colab": {
          "base_uri": "https://localhost:8080/"
        },
        "outputId": "87fe54bf-6e58-4afc-fa2d-9bf4a3a663f9"
      },
      "execution_count": 14,
      "outputs": [
        {
          "output_type": "stream",
          "name": "stdout",
          "text": [
            "1.481874693769997\n"
          ]
        }
      ]
    },
    {
      "cell_type": "markdown",
      "source": [
        "Create a figure plotting your draws as histogram. Plot a vertical red line denoting E[f(x)]"
      ],
      "metadata": {
        "id": "U23-mdhQD372"
      }
    },
    {
      "cell_type": "code",
      "source": [
        "sns.set(rc={'figure.figsize': (11.7, 8.27)})\n",
        "graph = sns.histplot(data=value, binwidth = 0.01)\n",
        "graph.axvline(mean, color = 'red')\n",
        "\n"
      ],
      "metadata": {
        "id": "Iuf4Fe6YD5Tn",
        "colab": {
          "base_uri": "https://localhost:8080/",
          "height": 517
        },
        "outputId": "fd504f33-67e9-4e67-ee1c-bf356957f974"
      },
      "execution_count": 15,
      "outputs": [
        {
          "output_type": "execute_result",
          "data": {
            "text/plain": [
              "<matplotlib.lines.Line2D at 0x7fb5a384a1d0>"
            ]
          },
          "metadata": {},
          "execution_count": 15
        },
        {
          "output_type": "display_data",
          "data": {
            "text/plain": [
              "<Figure size 842.4x595.44 with 1 Axes>"
            ],
            "image/png": "[encoded data removed]"
          },
          "metadata": {}
        }
      ]
    }
  ],
  "metadata": {
    "colab": {
      "collapsed_sections": [
        "BnhWEScNUxrT"
      ],
      "provenance": []
    },
    "kernelspec": {
      "display_name": "Python 3.8.8 ('base')",
      "language": "python",
      "name": "python3"
    },
    "language_info": {
      "name": "python",
      "version": "3.8.8"
    },
    "vscode": {
      "interpreter": {
        "hash": "40d3a090f54c6569ab1632332b64b2c03c39dcf918b08424e98f38b5ae0af88f"
      }
    }
  },
  "nbformat": 4,
  "nbformat_minor": 0
}