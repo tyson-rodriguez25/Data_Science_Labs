{
  "nbformat": 4,
  "nbformat_minor": 0,
  "metadata": {
    "colab": {
      "provenance": [],
      "collapsed_sections": []
    },
    "kernelspec": {
      "name": "python3",
      "display_name": "Python 3"
    },
    "language_info": {
      "name": "python"
    }
  },
  "cells": [
    {
      "cell_type": "code",
      "execution_count": 1,
      "metadata": {
        "id": "ax6OOH2BSCi6"
      },
      "outputs": [],
      "source": [
        "X =   [[ 0.9573075 ,  0.83877059,  1.51767182],\n",
        "       [ 0.83782936, -0.88288659,  0.7371596 ],\n",
        "       [-0.01786695,  0.83195016,  0.66394427],\n",
        "       [-2.43495362, -0.5999003 , -1.40044824],\n",
        "       [-0.67749399, -0.93229581,  0.4736418 ],\n",
        "       [ 0.47934903,  0.90244159, -0.24246888],\n",
        "       [ 1.00280715, -0.68745287, -1.08115248],\n",
        "       [ 0.98143632,  0.77163722,  0.07051186],\n",
        "       [ 1.10721349,  0.37520477,  0.54710493],\n",
        "       [ 0.20813717, -0.56000733, -0.38301232]]"
      ]
    },
    {
      "cell_type": "code",
      "source": [
        "from statistics import mean\n",
        "def Sum_for(data):\n",
        "  avgList = []\n",
        "  avg = 0\n",
        "  for i in data:\n",
        "    avg =+ mean(i)\n",
        "    avgList.append(avg)\n",
        "  return avgList\n",
        "\n",
        "z = Sum_for(X)\n",
        "print(z)"
      ],
      "metadata": {
        "colab": {
          "base_uri": "https://localhost:8080/"
        },
        "id": "HkWJo3EuV5c1",
        "outputId": "0c909cf2-e2ed-41d7-8c5b-51e72a43c6c8"
      },
      "execution_count": 2,
      "outputs": [
        {
          "output_type": "stream",
          "name": "stdout",
          "text": [
            "[1.1045833033333332, 0.23070079, 0.49267582666666665, -1.4784340533333333, -0.378716, 0.3797739133333333, -0.2552660666666667, 0.6078618, 0.67650773, -0.2449608266666667]\n"
          ]
        }
      ]
    },
    {
      "cell_type": "code",
      "source": [
        "import numpy as np\n",
        "\n",
        "def Sum_Numpy(data):\n",
        "  a = np.array(data)\n",
        "  sum = np.average(a, axis = 1)\n",
        "  return sum\n",
        "\n",
        "g = Sum_Numpy(X)\n",
        "print(g)"
      ],
      "metadata": {
        "colab": {
          "base_uri": "https://localhost:8080/"
        },
        "id": "OzqPX3b9SLIc",
        "outputId": "80dbfa33-5cba-486f-d8fe-b78c3eafd7ad"
      },
      "execution_count": 3,
      "outputs": [
        {
          "output_type": "stream",
          "name": "stdout",
          "text": [
            "[ 1.1045833   0.23070079  0.49267583 -1.47843405 -0.378716    0.37977391\n",
            " -0.25526607  0.6078618   0.67650773 -0.24496083]\n"
          ]
        }
      ]
    },
    {
      "cell_type": "code",
      "source": [
        "A =   [[-0.92597499,  0.43720423, -0.35210601],\n",
        "       [-1.57649123, -1.07509224,  0.47516471],\n",
        "       [-0.20934054,  1.02077567,  1.07644301],\n",
        "       [-0.15567112, -2.55700368, -1.46401899],\n",
        "       [ 0.02719893,  0.19837065,  1.85917993],\n",
        "       [-0.48220856, -0.5882894 ,  0.8520666 ],\n",
        "       [-0.61637754, -1.28843955,  0.21051033],\n",
        "       [-0.37856032, -0.18264039, -1.66748906],\n",
        "       [-1.88442764,  1.06363804, -0.73199025],\n",
        "       [ 1.1067878 , -1.50124564,  0.3577191 ]]\n",
        "       \n",
        "B =   [[ 0.83755816, -1.00443884, -0.50455401],\n",
        "       [ 0.17677451,  0.31791523,  0.87857933],\n",
        "       [-0.79809369,  1.05786099,  1.23321483],\n",
        "       [ 2.15225423,  0.03105143, -1.62707639],\n",
        "       [-0.38475992,  0.52332967, -0.80852807],\n",
        "       [-0.33078515, -0.39291109,  0.92239671],\n",
        "       [-0.68534134,  1.42376764, -0.56941844],\n",
        "       [-0.96316595, -0.9312169 , -0.6153402 ],\n",
        "       [ 0.11725929,  0.12216484,  0.22910712],\n",
        "       [-0.79512535,  1.4075714 , -0.53488747]]"
      ],
      "metadata": {
        "id": "IVBKdVdPZI3d"
      },
      "execution_count": 4,
      "outputs": []
    },
    {
      "cell_type": "code",
      "source": [
        "\n",
        "def Element_add(list1, list2):\n",
        "  result = [[list1[i][j] + list2[i][j]  for j in range\n",
        "  (len(X[0]))] for i in range(len(X))]\n",
        "  return result\n",
        "\n",
        "t = Element_add(A,B)\n",
        "print(t)"
      ],
      "metadata": {
        "colab": {
          "base_uri": "https://localhost:8080/"
        },
        "id": "s6EloSh2aIw3",
        "outputId": "dc134031-8e8c-4725-d96a-cde18064c933"
      },
      "execution_count": 5,
      "outputs": [
        {
          "output_type": "stream",
          "name": "stdout",
          "text": [
            "[[-0.08841683, -0.5672346099999999, -0.8566600200000001], [-1.39971672, -0.75717701, 1.35374404], [-1.0074342299999999, 2.07863666, 2.30965784], [1.99658311, -2.5259522499999996, -3.09109538], [-0.35756098999999997, 0.72170032, 1.0506518599999999], [-0.81299371, -0.98120049, 1.77446331], [-1.3017188800000001, 0.1353280899999998, -0.35890811], [-1.34172627, -1.11385729, -2.28282926], [-1.76716835, 1.18580288, -0.50288313], [0.31166245000000004, -0.09367424000000013, -0.17716837000000002]]\n"
          ]
        }
      ]
    },
    {
      "cell_type": "code",
      "source": [
        "def Element_Numpy(list1, list2):\n",
        "  return np.add(list1, list2)\n",
        "\n",
        "print(Element_Numpy(A, B))\n"
      ],
      "metadata": {
        "colab": {
          "base_uri": "https://localhost:8080/"
        },
        "id": "HNGSIMaYaI8s",
        "outputId": "7650a2f7-22a9-46d0-d05d-1ec4baeded9e"
      },
      "execution_count": 6,
      "outputs": [
        {
          "output_type": "stream",
          "name": "stdout",
          "text": [
            "[[-0.08841683 -0.56723461 -0.85666002]\n",
            " [-1.39971672 -0.75717701  1.35374404]\n",
            " [-1.00743423  2.07863666  2.30965784]\n",
            " [ 1.99658311 -2.52595225 -3.09109538]\n",
            " [-0.35756099  0.72170032  1.05065186]\n",
            " [-0.81299371 -0.98120049  1.77446331]\n",
            " [-1.30171888  0.13532809 -0.35890811]\n",
            " [-1.34172627 -1.11385729 -2.28282926]\n",
            " [-1.76716835  1.18580288 -0.50288313]\n",
            " [ 0.31166245 -0.09367424 -0.17716837]]\n"
          ]
        }
      ]
    },
    {
      "cell_type": "code",
      "source": [
        "a = [4, 2, 6, 2, 5, 7, 5, 8, 8, 4]\n",
        "b = [0, 6, 15, 3, 4, 6, 10, 8, 8, 18]"
      ],
      "metadata": {
        "id": "Kr6OU2LIcPjD"
      },
      "execution_count": 7,
      "outputs": []
    },
    {
      "cell_type": "code",
      "source": [
        "def Dot_add(list1, list2):\n",
        "  sum = 0\n",
        "  for i in range(len(list1)):\n",
        "    sum += list1[i] * list2[i]\n",
        "  return sum\n",
        "\n",
        "print(Dot_add(a, b))\n"
      ],
      "metadata": {
        "colab": {
          "base_uri": "https://localhost:8080/"
        },
        "id": "egKtlaUZcPlZ",
        "outputId": "7568d4d6-bf24-4cdc-f7f7-6f33cc377417"
      },
      "execution_count": 8,
      "outputs": [
        {
          "output_type": "stream",
          "name": "stdout",
          "text": [
            "420\n"
          ]
        }
      ]
    },
    {
      "cell_type": "code",
      "source": [
        "def Dot_Numpy(list1, list2) :\n",
        "  return np.dot(list1, list2)\n",
        "\n",
        "\n",
        "print(Dot_Numpy(a, b))"
      ],
      "metadata": {
        "colab": {
          "base_uri": "https://localhost:8080/"
        },
        "id": "qrqxDbtldgpE",
        "outputId": "580b9576-8f25-473c-be63-7d70c6669830"
      },
      "execution_count": 9,
      "outputs": [
        {
          "output_type": "stream",
          "name": "stdout",
          "text": [
            "420\n"
          ]
        }
      ]
    },
    {
      "cell_type": "code",
      "source": [
        "A = [[1,2],\n",
        "    [2,1]]\n",
        "B = [[3],\n",
        "    [1]]"
      ],
      "metadata": {
        "id": "mymUlgnOe2p7"
      },
      "execution_count": 10,
      "outputs": []
    },
    {
      "cell_type": "code",
      "source": [
        "def multiply(list1, list2):\n",
        "  result = []\n",
        "  for i in range(0,len(list1)):\n",
        "      temp=[]\n",
        "      for j in range(0,len(list2[0])):\n",
        "          s = 0\n",
        "          for k in range(0,len(list1[0])):\n",
        "            s += list1[i][k]*list2[k][j]\n",
        "          temp.append(s)\n",
        "      result.append(temp)\n",
        "  return result\n",
        "\n",
        "print(multiply(A,B))"
      ],
      "metadata": {
        "colab": {
          "base_uri": "https://localhost:8080/"
        },
        "id": "qIuHcWeEdg0I",
        "outputId": "687bd48b-979e-46b7-9df9-a1402785af3d"
      },
      "execution_count": 11,
      "outputs": [
        {
          "output_type": "stream",
          "name": "stdout",
          "text": [
            "[[5], [7]]\n"
          ]
        }
      ]
    },
    {
      "cell_type": "code",
      "source": [
        "def multiply_Numpy(list1, list2):\n",
        "  return np.matmul(list1,list2)\n",
        "\n",
        "print(multiply_Numpy(A,B))"
      ],
      "metadata": {
        "colab": {
          "base_uri": "https://localhost:8080/"
        },
        "id": "SsEaiPAYiCWj",
        "outputId": "644c5edf-2245-4458-a7f7-6af48d97cba9"
      },
      "execution_count": 12,
      "outputs": [
        {
          "output_type": "stream",
          "name": "stdout",
          "text": [
            "[[5]\n",
            " [7]]\n"
          ]
        }
      ]
    }
  ]
}